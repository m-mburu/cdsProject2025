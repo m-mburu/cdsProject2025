{
 "cells": [
  {
   "cell_type": "code",
   "execution_count": 2,
   "id": "49aa11eb",
   "metadata": {},
   "outputs": [],
   "source": [
    "import collections\n",
    "import itertools\n",
    "#import matplotlib.pyplot as plt\n",
    "#import numpy as np\n",
    "import random\n",
    "import sys\n",
    "import timeit\n"
   ]
  },
  {
   "cell_type": "code",
   "execution_count": 1,
   "id": "87944a21",
   "metadata": {},
   "outputs": [
    {
     "name": "stdout",
     "output_type": "stream",
     "text": [
      "[3, 2, 1, 0]\n",
      "----\n",
      "False\n"
     ]
    }
   ],
   "source": [
    "def is_sorted(data):\n",
    "    '''check whether a list is sorted\n",
    "    \n",
    "    Parameters\n",
    "    ----------\n",
    "    data : list\n",
    "        list to check\n",
    "        \n",
    "    Returns\n",
    "    -------\n",
    "    bool\n",
    "        True if the list is sorted, False otherwise\n",
    "    '''\n",
    "    for i in range(1, len(data)):\n",
    "        # print(data[i])\n",
    "        # print(data[i-1])\n",
    "        print(\"----\")\n",
    "        if data[i- 1] > data[i]:\n",
    "            return False\n",
    "    return True\n",
    "\n",
    "## test case best case scenario\n",
    "# data = list(range(4))\n",
    "# print(data)\n",
    "# print(is_sorted(data))\n",
    "# test worst case scenario\n",
    "data = list(range(4))[::-1]\n",
    "print(data)\n",
    "print(is_sorted(data))"
   ]
  }
 ],
 "metadata": {
  "kernelspec": {
   "display_name": "Python 3",
   "language": "python",
   "name": "python3"
  },
  "language_info": {
   "codemirror_mode": {
    "name": "ipython",
    "version": 3
   },
   "file_extension": ".py",
   "mimetype": "text/x-python",
   "name": "python",
   "nbconvert_exporter": "python",
   "pygments_lexer": "ipython3",
   "version": "3.6.8"
  }
 },
 "nbformat": 4,
 "nbformat_minor": 5
}
